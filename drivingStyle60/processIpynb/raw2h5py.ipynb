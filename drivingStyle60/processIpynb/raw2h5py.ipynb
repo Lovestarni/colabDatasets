{
 "nbformat": 4,
 "nbformat_minor": 2,
 "metadata": {
  "language_info": {
   "name": "python",
   "codemirror_mode": {
    "name": "ipython",
    "version": 3
   }
  },
  "orig_nbformat": 2,
  "file_extension": ".py",
  "mimetype": "text/x-python",
  "name": "python",
  "npconvert_exporter": "python",
  "pygments_lexer": "ipython3",
  "version": 3
 },
 "cells": [
  {
   "cell_type": "code",
   "execution_count": 2,
   "metadata": {},
   "outputs": [],
   "source": [
    "import os\n",
    "import pandas as pd\n",
    "import numpy as np"
   ]
  },
  {
   "cell_type": "code",
   "execution_count": 16,
   "metadata": {},
   "outputs": [],
   "source": [
    "#原始数据读取方式\n",
    "def readMatrixs(pathbase):\n",
    "    # pathbase =  'data_raw/trainset'\n",
    "    listbase = os.listdir(pathbase)\n",
    "    listbase.sort(key=lambda x: int(x[:6]))  # 文件名按从小到大顺序排序\n",
    "    b = []\n",
    "    for k in range(len(listbase)):\n",
    "        path = pathbase + listbase[k]  # 第一个司机文件夹\n",
    "        list = os.listdir(path)  # 列出文件夹下所有的目录与文\n",
    "        content = [[]] * 209  # 保存所有邻接矩阵\n",
    "\n",
    "        for i in range(209):\n",
    "            content[i] = np.zeros((209, 3), dtype=float)\n",
    "\n",
    "        for y in range(3):\n",
    "            pathSub = os.path.join(path, list[y])\n",
    "            with open(pathSub, 'r') as f:\n",
    "                lines = f.readlines()\n",
    "                for line in range(len(lines)):\n",
    "                    row = lines[line].strip('\\n').split(' ')\n",
    "                    for z in range(len(row) - 1):\n",
    "                        content[line][z][y] = float(row[z])\n",
    "\n",
    "        b.append(content)\n",
    "    b = np.stack(b, axis=0)\n",
    "    return b\n",
    "\n",
    "def readlabel(pathTrainBase):\n",
    "    # pathTrainBase = 'data_raw/trainset'\n",
    "    listbase = os.listdir(os.path.join(pathTrainBase, 'Matrix'))\n",
    "    path = os.path.join(pathTrainBase, 'label.txt')\n",
    "    hwLabels = np.zeros((len(listbase),), dtype=np.int64)\n",
    "    print(hwLabels)   \n",
    "    with open(path, 'r') as f:\n",
    "        lines = f.readlines()\n",
    "        for line in range(len(lines)):\n",
    "            hwLabels[line] = int(lines[line])\n",
    "    return hwLabels\n",
    "    "
   ]
  },
  {
   "cell_type": "code",
   "execution_count": 17,
   "metadata": {},
   "outputs": [
    {
     "name": "stdout",
     "output_type": "stream",
     "text": "[0 0 0 0 0 0 0 0 0 0 0 0 0 0 0 0 0 0 0 0 0 0 0 0 0 0 0 0 0 0 0 0 0 0 0 0 0\n 0 0 0 0 0 0 0 0]\ndata_raw/testset/Matrix/\n[0 0 0 0 0 0 0 0 0 0 0 0 0 0 0]\n"
    }
   ],
   "source": [
    "TRAINDATA_PATH = 'data_raw/trainset/Matrix/'\n",
    "TRAINLABEL_PATH = 'data_raw/trainset/'\n",
    "TESTDATA_PATH = 'data_raw/testset/Matrix/'\n",
    "TESATLABEL_PATH = 'data_raw/testset/'\n",
    "\n",
    "trainData = readMatrixs(TRAINDATA_PATH)\n",
    "trainLabel = readlabel(TRAINLABEL_PATH)\n",
    "print(TESTDATA_PATH)\n",
    "testData = readMatrixs(TESTDATA_PATH)\n",
    "testLabel = readlabel(TESATLABEL_PATH)"
   ]
  },
  {
   "cell_type": "code",
   "execution_count": 18,
   "metadata": {},
   "outputs": [
    {
     "data": {
      "text/plain": "45"
     },
     "execution_count": 18,
     "metadata": {},
     "output_type": "execute_result"
    }
   ],
   "source": [
    "len(trainData)"
   ]
  },
  {
   "cell_type": "code",
   "execution_count": 21,
   "metadata": {},
   "outputs": [],
   "source": [
    "import h5py\n",
    "import numpy as np\n",
    "\n",
    "f = h5py.File('data_raw/drivingStyle60.h5', 'w')\n",
    "data = np.concatenate((trainData, testData), axis=0)\n",
    "label = np.concatenate((trainLabel, testLabel), axis=0)\n",
    "f['data'], f['label'] = data, label\n",
    "f.close()"
   ]
  },
  {
   "cell_type": "code",
   "execution_count": 22,
   "metadata": {},
   "outputs": [],
   "source": [
    "f= h5py.File('data_raw/drivingStyle60.h5', 'r')\n",
    "data = f['data'][:]"
   ]
  },
  {
   "cell_type": "code",
   "execution_count": 26,
   "metadata": {},
   "outputs": [
    {
     "data": {
      "text/plain": "(209, 209, 3)"
     },
     "execution_count": 26,
     "metadata": {},
     "output_type": "execute_result"
    }
   ],
   "source": [
    "data[1].shape"
   ]
  },
  {
   "cell_type": "code",
   "execution_count": null,
   "metadata": {},
   "outputs": [],
   "source": []
  }
 ]
}