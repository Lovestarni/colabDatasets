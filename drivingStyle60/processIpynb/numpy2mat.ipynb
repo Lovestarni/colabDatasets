{
 "nbformat": 4,
 "nbformat_minor": 2,
 "metadata": {
  "language_info": {
   "name": "python",
   "codemirror_mode": {
    "name": "ipython",
    "version": 3
   }
  },
  "orig_nbformat": 2,
  "file_extension": ".py",
  "mimetype": "text/x-python",
  "name": "python",
  "npconvert_exporter": "python",
  "pygments_lexer": "ipython3",
  "version": 3
 },
 "cells": [
  {
   "cell_type": "code",
   "execution_count": 31,
   "metadata": {},
   "outputs": [],
   "source": [
    "from trajectory.drivingStyle.src.myDatasets import drivingStyleDataset\n",
    "\n",
    "import scipy.io as io\n",
    "from scipy import sparse\n",
    "from gensim.models import KeyedVectors\n",
    "import matplotlib.pyplot as plt\n",
    "import numpy as np\n",
    "from numpy import *\n",
    "import pandas as pd\n",
    "from sklearn.neighbors import KNeighborsClassifier, RadiusNeighborsClassifier\n",
    "from sklearn.model_selection import ShuffleSplit\n",
    "from sklearn.model_selection import KFold\n",
    "from sklearn.model_selection import cross_val_score\n",
    "from sklearn.datasets import load_boston\n",
    "from sklearn.model_selection import train_test_split\n",
    "import time\n",
    "from sklearn.linear_model import LinearRegression\n",
    "from sklearn.preprocessing import PolynomialFeatures\n",
    "from sklearn.pipeline import Pipeline\n",
    "import time\n",
    "from sklearn.datasets import load_files\n",
    "import logging\n",
    "from sklearn.datasets import fetch_olivetti_faces\n",
    "from sklearn.decomposition import PCA\n",
    "from sklearn.model_selection import GridSearchCV\n",
    "from sklearn.svm import SVC\n",
    "from sklearn.metrics import confusion_matrix\n",
    "from sklearn.metrics import classification_report\n",
    "import warnings\n",
    "import os\n",
    "#读入训练和测试数据集合\n",
    "TMP_DIR = 'trajectory/tmp'\n",
    "MAT_OUTPUT_PATH = 'trajectory/drivingStyle/results/mat'\n",
    "MATPATH = 'trajectory/drivingStyle/results/driving.mat'\n",
    "DATAFILE = 'trajectory/drivingStyle/data_raw/drivingStyle60.h5'\n",
    "train = drivingStyleDataset(DATAFILE, train=True, trainNum=50)\n",
    "test = drivingStyleDataset(DATAFILE, train=False, trainNum=50)\n"
   ]
  },
  {
   "cell_type": "code",
   "execution_count": 13,
   "metadata": {},
   "outputs": [],
   "source": [
    "#分离训练和测试数据\n",
    "trainData, trainLabel = train.trainData, train.trainLabel\n",
    "testData, testLabel = test.testData, test.testLabel"
   ]
  },
  {
   "cell_type": "code",
   "execution_count": 20,
   "metadata": {},
   "outputs": [],
   "source": [
    "#定义数据转换函数，转换为matlab稀疏矩阵\n",
    "def numpy2mat(array, name = 'numpy', outputPath='trajectory/drivingStyle/results'):\n",
    "    names = []\n",
    "    for index, element in enumerate(array):\n",
    "        filename = os.path.join(outputPath, name+str(index)+'.mat')\n",
    "        io.savemat(filename, {'network':sparse.csr_matrix(element)})\n",
    "        names.append(filename)\n",
    "    return names\n",
    "\n",
    "strList2IntList = lambda strList : [int(elem) for elem in strList]\n",
    "\n",
    "def deepwalk(matFile):\n",
    "    '''\n",
    "    deepwalk形成每个节点的embedding，返回所有的embedding数据\n",
    "    '''\n",
    "    embeddingFile = os.path.join(os.path.dirname(matFile), os.path.basename(matFile).split('.')[0])+'.embeddings'\n",
    "    command = '/opt/anaconda3/bin/deepwalk --format mat --input {matFile} --number-walks 80 --max-memory-data-size 0 --representation-size 64 --walk-length 40 --window-size 10 --workers 1 --output {embeddingFile}'.format(matFile=matFile, embeddingFile=embeddingFile)\n",
    "    # tmp = os.popen('conda activate base')\n",
    "    tmp = os.popen(command)\n",
    "    tmp.read()\n",
    "    # tmp = os.popen('conda activate torch_gpu')\n",
    "    # tmp = tmp\n",
    "    print(command)\n",
    "    model = KeyedVectors.load_word2vec_format(embeddingFile, binary=False)\n",
    "    return strList2IntList(model.index2word), model\n",
    "\n",
    "def matrixZeroAlign(index, dictData, rowsNum = 209):\n",
    "    zeroLine = np.array([0] * 64, dtype=np.float32)\n",
    "    matrix = [[]] * 209\n",
    "    #matrix索引从零开始\n",
    "    for i in range(1, rowsNum+1):\n",
    "        if i in index:\n",
    "            matrix[i-1] = dictData.get_vector(str(i))\n",
    "        else:\n",
    "            matrix[i-1] = zeroLine\n",
    "    return np.vstack(matrix)\n",
    "\n",
    "\n",
    "def deepwalkOnDatasets(matFileList):\n",
    "    list = []\n",
    "    for matFile in matFileList:\n",
    "        index, dictData = deepwalk(matFile)\n",
    "        result = matrixZeroAlign(index, dictData)\n",
    "        #调整result的形状\n",
    "        result = result[np.newaxis, :]\n",
    "        list.append(result)\n",
    "    return np.vstack(list)\n",
    "\n",
    "\n",
    "\n"
   ]
  },
  {
   "cell_type": "code",
   "execution_count": 25,
   "metadata": {},
   "outputs": [],
   "source": [
    "#转化数据，并保存文件名\n",
    "\n",
    "\n",
    "#只保留第二维数据,转化为matlab支持的稀疏矩阵\n",
    "filter = lambda datasets: np.array([data[1] for data in datasets])\n",
    "trainData, testData = filter(trainData), filter(testData)\n",
    "trainMatDataName = numpy2mat(trainData, name='train', outputPath = MAT_OUTPUT_PATH)\n",
    "testMatDataName = numpy2mat(testData, name='test', outputPath = MAT_OUTPUT_PATH)\n",
    "# currentDir = os.getcwd()\n",
    "# os.chdir(TMP_DIR)\n",
    "# os.chdir(currentDir)"
   ]
  },
  {
   "cell_type": "code",
   "execution_count": 26,
   "metadata": {},
   "outputs": [
    {
     "name": "stdout",
     "output_type": "stream",
     "text": "/opt/anaconda3/bin/deepwalk --format mat --input trajectory/drivingStyle/results/mat/train0.mat --number-walks 80 --max-memory-data-size 0 --representation-size 64 --walk-length 40 --window-size 10 --workers 1 --output trajectory/drivingStyle/results/mat/train0.embeddings\n/opt/anaconda3/bin/deepwalk --format mat --input trajectory/drivingStyle/results/mat/train1.mat --number-walks 80 --max-memory-data-size 0 --representation-size 64 --walk-length 40 --window-size 10 --workers 1 --output trajectory/drivingStyle/results/mat/train1.embeddings\n/opt/anaconda3/bin/deepwalk --format mat --input trajectory/drivingStyle/results/mat/train2.mat --number-walks 80 --max-memory-data-size 0 --representation-size 64 --walk-length 40 --window-size 10 --workers 1 --output trajectory/drivingStyle/results/mat/train2.embeddings\n/opt/anaconda3/bin/deepwalk --format mat --input trajectory/drivingStyle/results/mat/train3.mat --number-walks 80 --max-memory-data-size 0 --representation-size 64 --walk-length 40 --window-size 10 --workers 1 --output trajectory/drivingStyle/results/mat/train3.embeddings\n/opt/anaconda3/bin/deepwalk --format mat --input trajectory/drivingStyle/results/mat/train4.mat --number-walks 80 --max-memory-data-size 0 --representation-size 64 --walk-length 40 --window-size 10 --workers 1 --output trajectory/drivingStyle/results/mat/train4.embeddings\n/opt/anaconda3/bin/deepwalk --format mat --input trajectory/drivingStyle/results/mat/train5.mat --number-walks 80 --max-memory-data-size 0 --representation-size 64 --walk-length 40 --window-size 10 --workers 1 --output trajectory/drivingStyle/results/mat/train5.embeddings\n/opt/anaconda3/bin/deepwalk --format mat --input trajectory/drivingStyle/results/mat/train6.mat --number-walks 80 --max-memory-data-size 0 --representation-size 64 --walk-length 40 --window-size 10 --workers 1 --output trajectory/drivingStyle/results/mat/train6.embeddings\n/opt/anaconda3/bin/deepwalk --format mat --input trajectory/drivingStyle/results/mat/train7.mat --number-walks 80 --max-memory-data-size 0 --representation-size 64 --walk-length 40 --window-size 10 --workers 1 --output trajectory/drivingStyle/results/mat/train7.embeddings\n/opt/anaconda3/bin/deepwalk --format mat --input trajectory/drivingStyle/results/mat/train8.mat --number-walks 80 --max-memory-data-size 0 --representation-size 64 --walk-length 40 --window-size 10 --workers 1 --output trajectory/drivingStyle/results/mat/train8.embeddings\n/opt/anaconda3/bin/deepwalk --format mat --input trajectory/drivingStyle/results/mat/train9.mat --number-walks 80 --max-memory-data-size 0 --representation-size 64 --walk-length 40 --window-size 10 --workers 1 --output trajectory/drivingStyle/results/mat/train9.embeddings\n/opt/anaconda3/bin/deepwalk --format mat --input trajectory/drivingStyle/results/mat/train10.mat --number-walks 80 --max-memory-data-size 0 --representation-size 64 --walk-length 40 --window-size 10 --workers 1 --output trajectory/drivingStyle/results/mat/train10.embeddings\n/opt/anaconda3/bin/deepwalk --format mat --input trajectory/drivingStyle/results/mat/train11.mat --number-walks 80 --max-memory-data-size 0 --representation-size 64 --walk-length 40 --window-size 10 --workers 1 --output trajectory/drivingStyle/results/mat/train11.embeddings\n/opt/anaconda3/bin/deepwalk --format mat --input trajectory/drivingStyle/results/mat/train12.mat --number-walks 80 --max-memory-data-size 0 --representation-size 64 --walk-length 40 --window-size 10 --workers 1 --output trajectory/drivingStyle/results/mat/train12.embeddings\n/opt/anaconda3/bin/deepwalk --format mat --input trajectory/drivingStyle/results/mat/train13.mat --number-walks 80 --max-memory-data-size 0 --representation-size 64 --walk-length 40 --window-size 10 --workers 1 --output trajectory/drivingStyle/results/mat/train13.embeddings\n/opt/anaconda3/bin/deepwalk --format mat --input trajectory/drivingStyle/results/mat/train14.mat --number-walks 80 --max-memory-data-size 0 --representation-size 64 --walk-length 40 --window-size 10 --workers 1 --output trajectory/drivingStyle/results/mat/train14.embeddings\n/opt/anaconda3/bin/deepwalk --format mat --input trajectory/drivingStyle/results/mat/train15.mat --number-walks 80 --max-memory-data-size 0 --representation-size 64 --walk-length 40 --window-size 10 --workers 1 --output trajectory/drivingStyle/results/mat/train15.embeddings\n/opt/anaconda3/bin/deepwalk --format mat --input trajectory/drivingStyle/results/mat/train16.mat --number-walks 80 --max-memory-data-size 0 --representation-size 64 --walk-length 40 --window-size 10 --workers 1 --output trajectory/drivingStyle/results/mat/train16.embeddings\n/opt/anaconda3/bin/deepwalk --format mat --input trajectory/drivingStyle/results/mat/train17.mat --number-walks 80 --max-memory-data-size 0 --representation-size 64 --walk-length 40 --window-size 10 --workers 1 --output trajectory/drivingStyle/results/mat/train17.embeddings\n/opt/anaconda3/bin/deepwalk --format mat --input trajectory/drivingStyle/results/mat/train18.mat --number-walks 80 --max-memory-data-size 0 --representation-size 64 --walk-length 40 --window-size 10 --workers 1 --output trajectory/drivingStyle/results/mat/train18.embeddings\n/opt/anaconda3/bin/deepwalk --format mat --input trajectory/drivingStyle/results/mat/train19.mat --number-walks 80 --max-memory-data-size 0 --representation-size 64 --walk-length 40 --window-size 10 --workers 1 --output trajectory/drivingStyle/results/mat/train19.embeddings\n/opt/anaconda3/bin/deepwalk --format mat --input trajectory/drivingStyle/results/mat/train20.mat --number-walks 80 --max-memory-data-size 0 --representation-size 64 --walk-length 40 --window-size 10 --workers 1 --output trajectory/drivingStyle/results/mat/train20.embeddings\n/opt/anaconda3/bin/deepwalk --format mat --input trajectory/drivingStyle/results/mat/train21.mat --number-walks 80 --max-memory-data-size 0 --representation-size 64 --walk-length 40 --window-size 10 --workers 1 --output trajectory/drivingStyle/results/mat/train21.embeddings\n/opt/anaconda3/bin/deepwalk --format mat --input trajectory/drivingStyle/results/mat/train22.mat --number-walks 80 --max-memory-data-size 0 --representation-size 64 --walk-length 40 --window-size 10 --workers 1 --output trajectory/drivingStyle/results/mat/train22.embeddings\n/opt/anaconda3/bin/deepwalk --format mat --input trajectory/drivingStyle/results/mat/train23.mat --number-walks 80 --max-memory-data-size 0 --representation-size 64 --walk-length 40 --window-size 10 --workers 1 --output trajectory/drivingStyle/results/mat/train23.embeddings\n/opt/anaconda3/bin/deepwalk --format mat --input trajectory/drivingStyle/results/mat/train24.mat --number-walks 80 --max-memory-data-size 0 --representation-size 64 --walk-length 40 --window-size 10 --workers 1 --output trajectory/drivingStyle/results/mat/train24.embeddings\n/opt/anaconda3/bin/deepwalk --format mat --input trajectory/drivingStyle/results/mat/train25.mat --number-walks 80 --max-memory-data-size 0 --representation-size 64 --walk-length 40 --window-size 10 --workers 1 --output trajectory/drivingStyle/results/mat/train25.embeddings\n/opt/anaconda3/bin/deepwalk --format mat --input trajectory/drivingStyle/results/mat/train26.mat --number-walks 80 --max-memory-data-size 0 --representation-size 64 --walk-length 40 --window-size 10 --workers 1 --output trajectory/drivingStyle/results/mat/train26.embeddings\n/opt/anaconda3/bin/deepwalk --format mat --input trajectory/drivingStyle/results/mat/train27.mat --number-walks 80 --max-memory-data-size 0 --representation-size 64 --walk-length 40 --window-size 10 --workers 1 --output trajectory/drivingStyle/results/mat/train27.embeddings\n/opt/anaconda3/bin/deepwalk --format mat --input trajectory/drivingStyle/results/mat/train28.mat --number-walks 80 --max-memory-data-size 0 --representation-size 64 --walk-length 40 --window-size 10 --workers 1 --output trajectory/drivingStyle/results/mat/train28.embeddings\n/opt/anaconda3/bin/deepwalk --format mat --input trajectory/drivingStyle/results/mat/train29.mat --number-walks 80 --max-memory-data-size 0 --representation-size 64 --walk-length 40 --window-size 10 --workers 1 --output trajectory/drivingStyle/results/mat/train29.embeddings\n/opt/anaconda3/bin/deepwalk --format mat --input trajectory/drivingStyle/results/mat/train30.mat --number-walks 80 --max-memory-data-size 0 --representation-size 64 --walk-length 40 --window-size 10 --workers 1 --output trajectory/drivingStyle/results/mat/train30.embeddings\n/opt/anaconda3/bin/deepwalk --format mat --input trajectory/drivingStyle/results/mat/train31.mat --number-walks 80 --max-memory-data-size 0 --representation-size 64 --walk-length 40 --window-size 10 --workers 1 --output trajectory/drivingStyle/results/mat/train31.embeddings\n/opt/anaconda3/bin/deepwalk --format mat --input trajectory/drivingStyle/results/mat/train32.mat --number-walks 80 --max-memory-data-size 0 --representation-size 64 --walk-length 40 --window-size 10 --workers 1 --output trajectory/drivingStyle/results/mat/train32.embeddings\n/opt/anaconda3/bin/deepwalk --format mat --input trajectory/drivingStyle/results/mat/train33.mat --number-walks 80 --max-memory-data-size 0 --representation-size 64 --walk-length 40 --window-size 10 --workers 1 --output trajectory/drivingStyle/results/mat/train33.embeddings\n/opt/anaconda3/bin/deepwalk --format mat --input trajectory/drivingStyle/results/mat/train34.mat --number-walks 80 --max-memory-data-size 0 --representation-size 64 --walk-length 40 --window-size 10 --workers 1 --output trajectory/drivingStyle/results/mat/train34.embeddings\n/opt/anaconda3/bin/deepwalk --format mat --input trajectory/drivingStyle/results/mat/train35.mat --number-walks 80 --max-memory-data-size 0 --representation-size 64 --walk-length 40 --window-size 10 --workers 1 --output trajectory/drivingStyle/results/mat/train35.embeddings\n/opt/anaconda3/bin/deepwalk --format mat --input trajectory/drivingStyle/results/mat/train36.mat --number-walks 80 --max-memory-data-size 0 --representation-size 64 --walk-length 40 --window-size 10 --workers 1 --output trajectory/drivingStyle/results/mat/train36.embeddings\n/opt/anaconda3/bin/deepwalk --format mat --input trajectory/drivingStyle/results/mat/train37.mat --number-walks 80 --max-memory-data-size 0 --representation-size 64 --walk-length 40 --window-size 10 --workers 1 --output trajectory/drivingStyle/results/mat/train37.embeddings\n/opt/anaconda3/bin/deepwalk --format mat --input trajectory/drivingStyle/results/mat/train38.mat --number-walks 80 --max-memory-data-size 0 --representation-size 64 --walk-length 40 --window-size 10 --workers 1 --output trajectory/drivingStyle/results/mat/train38.embeddings\n/opt/anaconda3/bin/deepwalk --format mat --input trajectory/drivingStyle/results/mat/train39.mat --number-walks 80 --max-memory-data-size 0 --representation-size 64 --walk-length 40 --window-size 10 --workers 1 --output trajectory/drivingStyle/results/mat/train39.embeddings\n/opt/anaconda3/bin/deepwalk --format mat --input trajectory/drivingStyle/results/mat/train40.mat --number-walks 80 --max-memory-data-size 0 --representation-size 64 --walk-length 40 --window-size 10 --workers 1 --output trajectory/drivingStyle/results/mat/train40.embeddings\n/opt/anaconda3/bin/deepwalk --format mat --input trajectory/drivingStyle/results/mat/train41.mat --number-walks 80 --max-memory-data-size 0 --representation-size 64 --walk-length 40 --window-size 10 --workers 1 --output trajectory/drivingStyle/results/mat/train41.embeddings\n/opt/anaconda3/bin/deepwalk --format mat --input trajectory/drivingStyle/results/mat/train42.mat --number-walks 80 --max-memory-data-size 0 --representation-size 64 --walk-length 40 --window-size 10 --workers 1 --output trajectory/drivingStyle/results/mat/train42.embeddings\n/opt/anaconda3/bin/deepwalk --format mat --input trajectory/drivingStyle/results/mat/train43.mat --number-walks 80 --max-memory-data-size 0 --representation-size 64 --walk-length 40 --window-size 10 --workers 1 --output trajectory/drivingStyle/results/mat/train43.embeddings\n/opt/anaconda3/bin/deepwalk --format mat --input trajectory/drivingStyle/results/mat/train44.mat --number-walks 80 --max-memory-data-size 0 --representation-size 64 --walk-length 40 --window-size 10 --workers 1 --output trajectory/drivingStyle/results/mat/train44.embeddings\n/opt/anaconda3/bin/deepwalk --format mat --input trajectory/drivingStyle/results/mat/train45.mat --number-walks 80 --max-memory-data-size 0 --representation-size 64 --walk-length 40 --window-size 10 --workers 1 --output trajectory/drivingStyle/results/mat/train45.embeddings\n/opt/anaconda3/bin/deepwalk --format mat --input trajectory/drivingStyle/results/mat/train46.mat --number-walks 80 --max-memory-data-size 0 --representation-size 64 --walk-length 40 --window-size 10 --workers 1 --output trajectory/drivingStyle/results/mat/train46.embeddings\n/opt/anaconda3/bin/deepwalk --format mat --input trajectory/drivingStyle/results/mat/train47.mat --number-walks 80 --max-memory-data-size 0 --representation-size 64 --walk-length 40 --window-size 10 --workers 1 --output trajectory/drivingStyle/results/mat/train47.embeddings\n/opt/anaconda3/bin/deepwalk --format mat --input trajectory/drivingStyle/results/mat/train48.mat --number-walks 80 --max-memory-data-size 0 --representation-size 64 --walk-length 40 --window-size 10 --workers 1 --output trajectory/drivingStyle/results/mat/train48.embeddings\n/opt/anaconda3/bin/deepwalk --format mat --input trajectory/drivingStyle/results/mat/train49.mat --number-walks 80 --max-memory-data-size 0 --representation-size 64 --walk-length 40 --window-size 10 --workers 1 --output trajectory/drivingStyle/results/mat/train49.embeddings\n/opt/anaconda3/bin/deepwalk --format mat --input trajectory/drivingStyle/results/mat/test0.mat --number-walks 80 --max-memory-data-size 0 --representation-size 64 --walk-length 40 --window-size 10 --workers 1 --output trajectory/drivingStyle/results/mat/test0.embeddings\n/opt/anaconda3/bin/deepwalk --format mat --input trajectory/drivingStyle/results/mat/test1.mat --number-walks 80 --max-memory-data-size 0 --representation-size 64 --walk-length 40 --window-size 10 --workers 1 --output trajectory/drivingStyle/results/mat/test1.embeddings\n/opt/anaconda3/bin/deepwalk --format mat --input trajectory/drivingStyle/results/mat/test2.mat --number-walks 80 --max-memory-data-size 0 --representation-size 64 --walk-length 40 --window-size 10 --workers 1 --output trajectory/drivingStyle/results/mat/test2.embeddings\n/opt/anaconda3/bin/deepwalk --format mat --input trajectory/drivingStyle/results/mat/test3.mat --number-walks 80 --max-memory-data-size 0 --representation-size 64 --walk-length 40 --window-size 10 --workers 1 --output trajectory/drivingStyle/results/mat/test3.embeddings\n/opt/anaconda3/bin/deepwalk --format mat --input trajectory/drivingStyle/results/mat/test4.mat --number-walks 80 --max-memory-data-size 0 --representation-size 64 --walk-length 40 --window-size 10 --workers 1 --output trajectory/drivingStyle/results/mat/test4.embeddings\n/opt/anaconda3/bin/deepwalk --format mat --input trajectory/drivingStyle/results/mat/test5.mat --number-walks 80 --max-memory-data-size 0 --representation-size 64 --walk-length 40 --window-size 10 --workers 1 --output trajectory/drivingStyle/results/mat/test5.embeddings\n/opt/anaconda3/bin/deepwalk --format mat --input trajectory/drivingStyle/results/mat/test6.mat --number-walks 80 --max-memory-data-size 0 --representation-size 64 --walk-length 40 --window-size 10 --workers 1 --output trajectory/drivingStyle/results/mat/test6.embeddings\n/opt/anaconda3/bin/deepwalk --format mat --input trajectory/drivingStyle/results/mat/test7.mat --number-walks 80 --max-memory-data-size 0 --representation-size 64 --walk-length 40 --window-size 10 --workers 1 --output trajectory/drivingStyle/results/mat/test7.embeddings\n/opt/anaconda3/bin/deepwalk --format mat --input trajectory/drivingStyle/results/mat/test8.mat --number-walks 80 --max-memory-data-size 0 --representation-size 64 --walk-length 40 --window-size 10 --workers 1 --output trajectory/drivingStyle/results/mat/test8.embeddings\n"
    }
   ],
   "source": [
    "#对数据进行deepwalk游走，得到向量表示\n",
    "trainDataDescrip = deepwalkOnDatasets(trainMatDataName)\n",
    "testDataDescrip = deepwalkOnDatasets(testMatDataName)"
   ]
  },
  {
   "cell_type": "code",
   "execution_count": 29,
   "metadata": {},
   "outputs": [
    {
     "name": "stdout",
     "output_type": "stream",
     "text": "saving time 0.02s\n"
    }
   ],
   "source": [
    "#缓存一下deepwalk结果\n",
    "import h5py\n",
    "import time\n",
    "DEEPWALK_RESULT_PATH = 'trajectory/drivingStyle/data_raw/'\n",
    "time0 = time.time()\n",
    "f = h5py.File(DEEPWALK_RESULT_PATH + 'deepwalk60.h5','w')   #创建一个h5文件，文件指针是f  \n",
    "f['trainDataDescrip'], f['trainLabel'] = trainDataDescrip, trainLabel                  #将数据写入文件的主键data下面  \n",
    "f['testDataDescrip'], f['testDataLabel'] = testDataDescrip, testLabel\n",
    "f.close()                        #关闭文件  \n",
    "print('saving time %.2fs' % (time.time() - time0))"
   ]
  },
  {
   "cell_type": "code",
   "execution_count": 39,
   "metadata": {},
   "outputs": [
    {
     "name": "stdout",
     "output_type": "stream",
     "text": "搜索SVM最佳参数 ...\nFitting 3 folds for each of 25 candidates, totalling 75 fits\n/opt/anaconda3/envs/torch_gpu/lib/python3.7/site-packages/sklearn/model_selection/_split.py:1978: FutureWarning: The default value of cv will change from 3 to 5 in version 0.22. Specify it explicitly to silence this warning.\n  warnings.warn(CV_WARNING, FutureWarning)\n[Parallel(n_jobs=4)]: Using backend LokyBackend with 4 concurrent workers.\n[Parallel(n_jobs=4)]: Done  44 tasks      | elapsed:    1.1s\n使用GridSearchCV搜索到的最佳参数是:\n{'C': 5, 'gamma': 0.01}\n预测测试集 ...\n预测完成用时 0.01秒。\n\n              precision    recall  f1-score   support\n\n           0       0.75      0.60      0.67         5\n           1       0.00      0.00      0.00         0\n           2       0.00      0.00      0.00         4\n\n    accuracy                           0.33         9\n   macro avg       0.25      0.20      0.22         9\nweighted avg       0.42      0.33      0.37         9\n\n[Parallel(n_jobs=4)]: Done  68 out of  75 | elapsed:    1.3s remaining:    0.1s\n[Parallel(n_jobs=4)]: Done  75 out of  75 | elapsed:    1.4s finished\n/opt/anaconda3/envs/torch_gpu/lib/python3.7/site-packages/sklearn/model_selection/_search.py:814: DeprecationWarning: The default of the `iid` parameter will change from True to False in version 0.22 and will be removed in 0.24. This will change numeric results when test-set sizes are unequal.\n  DeprecationWarning)\n/opt/anaconda3/envs/torch_gpu/lib/python3.7/site-packages/sklearn/metrics/classification.py:1437: UndefinedMetricWarning: Precision and F-score are ill-defined and being set to 0.0 in labels with no predicted samples.\n  'precision', 'predicted', average, warn_for)\n/opt/anaconda3/envs/torch_gpu/lib/python3.7/site-packages/sklearn/metrics/classification.py:1439: UndefinedMetricWarning: Recall and F-score are ill-defined and being set to 0.0 in labels with no true samples.\n  'recall', 'true', average, warn_for)\n"
    }
   ],
   "source": [
    "#有三类司机\n",
    "targets = [0, 1, 2]\n",
    "target_names = ['0', '1', '2']\n",
    "n_targets = 3\n",
    "#TODO 暂时没有很好的解决方法，先将每个矩阵展开成一维\n",
    "X_train, y_train = trainDataDescrip.reshape(trainDataDescrip.shape[0], trainDataDescrip.shape[1] * trainDataDescrip.shape[2]), trainLabel\n",
    "X_test, y_test = testDataDescrip.reshape(testDataDescrip.shape[0], testDataDescrip.shape[1] * testDataDescrip.shape[2]), testLabel\n",
    "print(\"搜索SVM最佳参数 ...\")\n",
    "param_grid = {'C': [1, 5, 10, 50, 100], 'gamma': [0.0001, 0.0005, 0.001, 0.005, 0.01]}\n",
    "clf = GridSearchCV(SVC(kernel='rbf', class_weight='balanced'), param_grid, verbose=2, n_jobs=4)\n",
    "clf = clf.fit(X_train, y_train)\n",
    "print(\"使用GridSearchCV搜索到的最佳参数是:\")\n",
    "print(clf.best_params_)\n",
    "\n",
    "start = time.time()\n",
    "print(\"预测测试集 ...\")\n",
    "y_pred = clf.best_estimator_.predict(X_test)\n",
    "cm = confusion_matrix(y_test, y_pred, labels=range(n_targets))\n",
    "print(\"预测完成用时 {0:.2f}秒。\\n\".format(time.time() - start))\n",
    "#print(\"混淆矩阵:\")\n",
    "np.set_printoptions()\n",
    "#print(cm)\n",
    "\n",
    "print(classification_report(y_test, y_pred, labels=range(n_targets), target_names=target_names))"
   ]
  },
  {
   "cell_type": "code",
   "execution_count": 36,
   "metadata": {},
   "outputs": [
    {
     "data": {
      "text/plain": "array([ 0.        ,  0.        ,  0.        ,  0.        ,  0.        ,\n        0.        ,  0.        ,  0.        ,  0.        ,  0.        ,\n        0.        ,  0.        ,  0.        ,  0.        ,  0.        ,\n        0.        ,  0.        ,  0.        ,  0.        ,  0.        ,\n        0.        ,  0.        ,  0.        ,  0.        ,  0.        ,\n        0.        ,  0.        ,  0.        ,  0.        ,  0.        ,\n        0.        ,  0.        ,  0.        ,  0.        ,  0.        ,\n        0.        ,  0.        ,  0.        ,  0.        ,  0.        ,\n        0.        ,  0.        ,  0.        ,  0.        ,  0.        ,\n        0.        ,  0.        ,  0.        ,  0.        ,  0.        ,\n        0.        ,  0.        ,  0.        ,  0.        ,  0.        ,\n        0.        ,  0.        ,  0.        ,  0.        ,  0.        ,\n        0.        ,  0.        ,  0.        ,  0.        ,  0.        ,\n        0.        ,  0.        ,  0.        ,  0.        ,  0.        ,\n        0.        ,  0.        ,  0.        ,  0.        ,  0.        ,\n        0.        ,  0.        ,  0.        ,  0.        ,  0.        ,\n        0.        ,  0.        ,  0.        ,  0.        ,  0.        ,\n        0.        ,  0.        ,  0.        ,  0.        ,  0.        ,\n        0.        ,  0.        , -0.32944578,  0.09632889, -0.10934656,\n        0.28498593, -0.35924265,  0.04608834, -0.6172705 ,  0.09212641],\n      dtype=float32)"
     },
     "execution_count": 36,
     "metadata": {},
     "output_type": "execute_result"
    }
   ],
   "source": []
  },
  {
   "cell_type": "code",
   "execution_count": 23,
   "metadata": {},
   "outputs": [
    {
     "data": {
      "text/plain": "(9, 209, 64)"
     },
     "execution_count": 23,
     "metadata": {},
     "output_type": "execute_result"
    }
   ],
   "source": [
    "!/opt/anaconda3/bin/deepwalk --format mat --input trajectory/drivingStyle/results/mat/train6.mat --number-walks 80 --max-memory-data-size 0 --representation-size 64 --walk-length 40 --window-size 10 --workers 1 --output trajectory/drivingStyle/results/mat/train6.embeddings"
   ]
  },
  {
   "cell_type": "code",
   "execution_count": 6,
   "metadata": {},
   "outputs": [],
   "source": [
    "a = os.popen('/opt/anaconda3/bin/deepwalk --format mat --input trajectory/drivingStyle/results/mat/train4.mat --number-walks 80 --max-memory-data-size 0 --representation-size 64 --walk-length 40 --window-size 10 --workers 1 --output trajectory/drivingStyle/results/mat/train4.embeddings')"
   ]
  },
  {
   "cell_type": "code",
   "execution_count": 20,
   "metadata": {},
   "outputs": [],
   "source": [
    "a = np.array([[1, 2], [3, 4]])"
   ]
  },
  {
   "cell_type": "code",
   "execution_count": 21,
   "metadata": {},
   "outputs": [
    {
     "data": {
      "text/plain": "array([[1, 2],\n       [3, 4]])"
     },
     "execution_count": 21,
     "metadata": {},
     "output_type": "execute_result"
    }
   ],
   "source": [
    "a"
   ]
  },
  {
   "cell_type": "code",
   "execution_count": null,
   "metadata": {},
   "outputs": [],
   "source": []
  }
 ]
}