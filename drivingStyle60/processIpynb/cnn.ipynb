{
 "nbformat": 4,
 "nbformat_minor": 2,
 "metadata": {
  "language_info": {
   "name": "python",
   "codemirror_mode": {
    "name": "ipython",
    "version": 3
   }
  },
  "orig_nbformat": 2,
  "file_extension": ".py",
  "mimetype": "text/x-python",
  "name": "python",
  "npconvert_exporter": "python",
  "pygments_lexer": "ipython3",
  "version": 3
 },
 "cells": [
  {
   "cell_type": "code",
   "execution_count": 102,
   "metadata": {},
   "outputs": [],
   "source": [
    "import torch\n",
    "import torch.nn as nn\n",
    "import torch.nn.functional as F\n",
    "from myDatasets import drivingStyleDataset\n",
    "from torch.utils.data import DataLoader\n",
    "import torch.optim as optim\n",
    "from torch import Tensor\n",
    "DATAFILE = 'data_raw/drivingStyle60.h5'"
   ]
  },
  {
   "cell_type": "code",
   "execution_count": 103,
   "metadata": {},
   "outputs": [],
   "source": [
    "#加载训练集和测试集\n",
    "train = drivingStyleDataset(DATAFILE, train=True, trainNum=50)\n",
    "test = drivingStyleDataset(DATAFILE, train=False, trainNum=50)\n",
    "trainDL = DataLoader(train, batch_size=10, shuffle=True, num_workers=0)\n",
    "testDL = DataLoader(test, batch_size=10)"
   ]
  },
  {
   "cell_type": "code",
   "execution_count": 104,
   "metadata": {},
   "outputs": [
    {
     "name": "stdout",
     "output_type": "stream",
     "text": "CNNNet(\n  (conv1): Conv2d(3, 18, kernel_size=(5, 5), stride=(4, 4))\n  (conv2): Conv2d(18, 27, kernel_size=(3, 3), stride=(2, 2), padding=(1, 1))\n  (conv3): Conv2d(27, 36, kernel_size=(3, 3), stride=(1, 1))\n  (fc1): Linear(in_features=576, out_features=270, bias=True)\n  (fc2): Linear(in_features=270, out_features=120, bias=True)\n  (fc3): Linear(in_features=120, out_features=40, bias=True)\n  (fc4): Linear(in_features=40, out_features=3, bias=True)\n)\n"
    }
   ],
   "source": [
    "class CNNNet(nn.Module):\n",
    "    def __init__(self):\n",
    "        super(CNNNet, self).__init__()\n",
    "        #kernel\n",
    "        self.conv1 = nn.Conv2d(3, 18, 5, 4)\n",
    "        self.conv2 = nn.Conv2d(18, 27, 3, 2, padding=(1,1))\n",
    "        self.conv3 = nn.Conv2d(27, 36, 3)\n",
    "        self.fc1 = nn.Linear(36 * 4 * 4, 270)\n",
    "        self.fc2 = nn.Linear(270, 120)\n",
    "        self.fc3 = nn.Linear(120, 40)\n",
    "        self.fc4 = nn.Linear(40, 3)\n",
    "    \n",
    "    def forward(self, x):\n",
    "        x = F.avg_pool2d(F.relu(self.conv1(x)), 2, padding=(1,1))\n",
    "        x = F.avg_pool2d(F.relu(self.conv2(x)), 2, padding=(1,1))\n",
    "        x = F.avg_pool2d(F.relu(self.conv3(x)), 2, padding=(1,1))\n",
    "        x = x.view(-1, self.num_flat_features(x))\n",
    "        print(self.num_flat_features(x))\n",
    "        x = F.relu(self.fc1(x))\n",
    "        x = F.relu(self.fc2(x))\n",
    "        x = F.relu(self.fc3(x))\n",
    "        x = F.log_softmax(self.fc4(x), dim=1)\n",
    "        return x\n",
    "    \n",
    "    def num_flat_features(self, x):\n",
    "        size = x.size()[1:]  # all dimensions except the batch dimension\n",
    "        num_features = 1\n",
    "        for s in size:\n",
    "            num_features *= s\n",
    "        return num_features\n",
    "\n",
    "net = CNNNet()\n",
    "print(net)"
   ]
  },
  {
   "cell_type": "code",
   "execution_count": 107,
   "metadata": {},
   "outputs": [],
   "source": [
    "optimizer = optim.Adam(net.parameters())\n",
    "criterion = F.nll_loss"
   ]
  },
  {
   "cell_type": "code",
   "execution_count": 108,
   "metadata": {},
   "outputs": [],
   "source": [
    "def train(epoch):\n",
    "    for batch_idx, (data, traget) in enumerate(trainDL):\n",
    "        optimizer.zero_grad()\n",
    "        # print(data.float())\n",
    "        output = net(data.float())\n",
    "        loss = criterion(output, traget)\n",
    "        loss.backward()\n",
    "        #update\n",
    "        optimizer.step()\n",
    "        print('epoch %s' % epoch)\n",
    "\n",
    "def test():\n",
    "    test_loss = 0\n",
    "    correct = 0\n",
    "    for data, target in testDL:\n",
    "        output = net(data.float())\n",
    "        #sum up batch loss\n",
    "        test_loss += criterion(output, target).data[0]\n",
    "        pred = output.data.max(1, keepdim=True)[1]\n",
    "        correct += pred.eq(target"
   ]
  },
  {
   "cell_type": "code",
   "execution_count": 109,
   "metadata": {},
   "outputs": [
    {
     "name": "stdout",
     "output_type": "stream",
     "text": "576\nepoch 1\n576\nepoch 1\n576\nepoch 1\n576\nepoch 1\n576\nepoch 1\n"
    }
   ],
   "source": [
    "train(1)"
   ]
  },
  {
   "cell_type": "code",
   "execution_count": null,
   "metadata": {},
   "outputs": [],
   "source": []
  }
 ]
}